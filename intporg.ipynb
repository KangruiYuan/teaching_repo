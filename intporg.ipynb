{
 "cells": [
  {
   "cell_type": "code",
   "execution_count": 7,
   "metadata": {},
   "outputs": [
    {
     "name": "stdout",
     "output_type": "stream",
     "text": [
      "Test 1's result: 340.0 [4. 2.]\n",
      "Test 1's true optimal x: [4, 2]\n",
      "\n",
      "Test 2's result: 58.0 [2. 4.]\n",
      "Test 2's true optimal x: [2, 4]\n",
      "\n"
     ]
    }
   ],
   "source": [
    "from scipy.optimize import linprog\n",
    "import numpy as np\n",
    "import math\n",
    "import sys\n",
    "from queue import Queue\n",
    "\n",
    "\n",
    "class ILP:\n",
    "    def __init__(self, c, A_ub, b_ub, A_eq, b_eq, bounds):\n",
    "        # 全局参数\n",
    "        self.LOWER_BOUND = -sys.maxsize\n",
    "        self.UPPER_BOUND = sys.maxsize\n",
    "        self.opt_val = None\n",
    "        self.opt_x = None\n",
    "        self.Q = Queue()\n",
    "\n",
    "        # 这些参数在每轮计算中都不会改变\n",
    "        self.c = -c\n",
    "        self.A_eq = A_eq\n",
    "        self.b_eq = b_eq\n",
    "        self.bounds = bounds\n",
    "\n",
    "        # 首先计算一下初始问题\n",
    "        r = linprog(-c, A_ub, b_ub, A_eq, b_eq, bounds)\n",
    "\n",
    "        # 若最初问题线性不可解\n",
    "        if not r.success:\n",
    "            raise ValueError(\"Not a feasible problem!\")\n",
    "\n",
    "        # 将解和约束参数放入队列\n",
    "        self.Q.put((r, A_ub, b_ub))\n",
    "\n",
    "    def solve(self):\n",
    "        while not self.Q.empty():\n",
    "            # 取出当前问题\n",
    "            res, A_ub, b_ub = self.Q.get(block=False)\n",
    "\n",
    "            # 当前最优值小于总下界，则排除此区域\n",
    "            if -res.fun < self.LOWER_BOUND:\n",
    "                continue\n",
    "\n",
    "            # 若结果 x 中全为整数，则尝试更新全局下界、全局最优值和最优解\n",
    "            if all(list(map(lambda f: f.is_integer(), res.x))):\n",
    "                if self.LOWER_BOUND < -res.fun:\n",
    "                    self.LOWER_BOUND = -res.fun\n",
    "\n",
    "                if self.opt_val is None or self.opt_val < -res.fun:\n",
    "                    self.opt_val = -res.fun\n",
    "                    self.opt_x = res.x\n",
    "\n",
    "                continue\n",
    "\n",
    "            # 进行分枝\n",
    "            else:\n",
    "                # 寻找 x 中第一个不是整数的，取其下标 idx\n",
    "                idx = 0\n",
    "                for i, x in enumerate(res.x):\n",
    "                    if not x.is_integer():\n",
    "                        break\n",
    "                    idx += 1\n",
    "\n",
    "                # 构建新的约束条件（分割\n",
    "                new_con1 = np.zeros(A_ub.shape[1])\n",
    "                new_con1[idx] = -1\n",
    "                new_con2 = np.zeros(A_ub.shape[1])\n",
    "                new_con2[idx] = 1\n",
    "                new_A_ub1 = np.insert(A_ub, A_ub.shape[0], new_con1, axis=0)\n",
    "                new_A_ub2 = np.insert(A_ub, A_ub.shape[0], new_con2, axis=0)\n",
    "                new_b_ub1 = np.insert(\n",
    "                    b_ub, b_ub.shape[0], -math.ceil(res.x[idx]), axis=0\n",
    "                )\n",
    "                new_b_ub2 = np.insert(\n",
    "                    b_ub, b_ub.shape[0], math.floor(res.x[idx]), axis=0\n",
    "                )\n",
    "\n",
    "                # 将新约束条件加入队列，先加最优值大的那一支\n",
    "                r1 = linprog(\n",
    "                    self.c, new_A_ub1, new_b_ub1, self.A_eq, self.b_eq, self.bounds\n",
    "                )\n",
    "                r2 = linprog(\n",
    "                    self.c, new_A_ub2, new_b_ub2, self.A_eq, self.b_eq, self.bounds\n",
    "                )\n",
    "                if not r1.success and r2.success:\n",
    "                    self.Q.put((r2, new_A_ub2, new_b_ub2))\n",
    "                elif not r2.success and r1.success:\n",
    "                    self.Q.put((r1, new_A_ub1, new_b_ub1))\n",
    "                elif r1.success and r2.success:\n",
    "                    if -r1.fun > -r2.fun:\n",
    "                        self.Q.put((r1, new_A_ub1, new_b_ub1))\n",
    "                        self.Q.put((r2, new_A_ub2, new_b_ub2))\n",
    "                    else:\n",
    "                        self.Q.put((r2, new_A_ub2, new_b_ub2))\n",
    "                        self.Q.put((r1, new_A_ub1, new_b_ub1))\n",
    "\n",
    "\n",
    "def test1():\n",
    "    \"\"\"此测试的真实最优解为 [4, 2]\"\"\"\n",
    "    c = np.array([40, 90])\n",
    "    A = np.array([[9, 7], [7, 20]])\n",
    "    b = np.array([56, 70])\n",
    "    Aeq = None\n",
    "    beq = None\n",
    "    bounds = [(0, None), (0, None)]\n",
    "\n",
    "    solver = ILP(c, A, b, Aeq, beq, bounds)\n",
    "    solver.solve()\n",
    "\n",
    "    print(\"Test 1's result:\", solver.opt_val, solver.opt_x)\n",
    "    print(\"Test 1's true optimal x: [4, 2]\\n\")\n",
    "\n",
    "\n",
    "def test2():\n",
    "    \"\"\"此测试的真实最优解为 [2, 4]\"\"\"\n",
    "    c = np.array([3, 13])\n",
    "    A = np.array([[2, 9], [11, -8]])\n",
    "    b = np.array([40, 82])\n",
    "    Aeq = None\n",
    "    beq = None\n",
    "    bounds = [(0, None), (0, None)]\n",
    "\n",
    "    solver = ILP(c, A, b, Aeq, beq, bounds)\n",
    "    solver.solve()\n",
    "\n",
    "    print(\"Test 2's result:\", solver.opt_val, solver.opt_x)\n",
    "    print(\"Test 2's true optimal x: [2, 4]\\n\")\n",
    "\n",
    "\n",
    "if __name__ == \"__main__\":\n",
    "    test1()\n",
    "    test2()"
   ]
  },
  {
   "cell_type": "code",
   "execution_count": null,
   "metadata": {},
   "outputs": [],
   "source": [
    "import pulp as pp\n",
    "\n",
    "# 定义一个问题，第一个参数就是一个名字，随便取，后面是一个int型，说明的是求最大或者最小\n",
    "# pp.LpMinimize其实就是一个int，值为1\n",
    "# pp.LpMaximize也是一个int，值为-1.\n",
    "# 在参数后面也可以直接写1或者-1表示\n",
    "# 其实默认的都是求最小值，在求最大值的时候两边都要乘以-1，转成最小值求解。\n",
    "# \t\t\t\t\t\t所以最小值参数为1，最大值参数为-1\n",
    "mylp = pp.LpProblem(\"lp1\", pp.LpMinimize)\n",
    "\n",
    "# 定义未知数，标记取值范围，cat为限制条件，Integer表示整数型，Continuous表示连续型\n",
    "x1 = pp.LpVariable(\"x1\", lowBound=0, cat=\"Integer\")\n",
    "x2 = pp.LpVariable(\"x2\", lowBound=0, cat=\"Integer\")\n",
    "x3 = pp.LpVariable(\"x3\", lowBound=0, cat=\"Integer\")\n",
    "\n",
    "# 在pulp中用+=符号，加约束和目标函数\n",
    "# 只支持 = ，>= ， <= 不支持> , <\n",
    "mylp += 3 * x1 + 4 * x2 + x3\n",
    "mylp += x1 + 6 * x2 + 2 * x3 >= 5\n",
    "mylp += 2 * x1 >= 3"
   ]
  },
  {
   "cell_type": "code",
   "execution_count": 2,
   "metadata": {},
   "outputs": [
    {
     "data": {
      "text/plain": [
       "lp1:\n",
       "MINIMIZE\n",
       "3*x1 + 4*x2 + 1*x3 + 0\n",
       "SUBJECT TO\n",
       "_C1: x1 + 6 x2 + 2 x3 >= 5\n",
       "\n",
       "_C2: 2 x1 >= 3\n",
       "\n",
       "VARIABLES\n",
       "0 <= x1 Integer\n",
       "0 <= x2 Integer\n",
       "0 <= x3 Integer"
      ]
     },
     "execution_count": 2,
     "metadata": {},
     "output_type": "execute_result"
    }
   ],
   "source": [
    "mylp"
   ]
  },
  {
   "cell_type": "code",
   "execution_count": 3,
   "metadata": {},
   "outputs": [
    {
     "name": "stdout",
     "output_type": "stream",
     "text": [
      "1\n"
     ]
    }
   ],
   "source": [
    "# 最后一定要调用这个函数。才能得到解\n",
    "# 他返回一个int型，是一个status，表示的是pp.LpStatus里面对应的数字含义\n",
    "# {0: 'Not Solved',\n",
    "#   1: 'Optimal',最佳的\n",
    "#  -1: 'Infeasible',\n",
    "#  -2: 'Unbounded',\n",
    "#  -3: 'Undefined'}\n",
    "\n",
    "i = mylp.solve()\n",
    "print(i)  # 结果是1，返回1就说明成功计算了"
   ]
  },
  {
   "cell_type": "code",
   "execution_count": 4,
   "metadata": {},
   "outputs": [
    {
     "data": {
      "text/plain": [
       "[2.0, 0.0, 2.0]"
      ]
     },
     "execution_count": 4,
     "metadata": {},
     "output_type": "execute_result"
    }
   ],
   "source": [
    "# 得到这些值\n",
    "[v.varValue for v in mylp.variables()]"
   ]
  },
  {
   "cell_type": "code",
   "execution_count": 6,
   "metadata": {},
   "outputs": [
    {
     "name": "stdout",
     "output_type": "stream",
     "text": [
      "3*x1 + 4*x2 + x3\n"
     ]
    },
    {
     "data": {
      "text/plain": [
       "8.0"
      ]
     },
     "execution_count": 6,
     "metadata": {},
     "output_type": "execute_result"
    }
   ],
   "source": [
    "print(mylp.objective)\n",
    "\n",
    "pp.value(mylp.objective)"
   ]
  },
  {
   "cell_type": "code",
   "execution_count": 1,
   "metadata": {},
   "outputs": [
    {
     "name": "stdout",
     "output_type": "stream",
     "text": [
      "{x1: 5, x2: 3, alpha: -3}\n"
     ]
    }
   ],
   "source": [
    "# 导入sympy包，用于求导，方程组求解等等\n",
    "from sympy import *\n",
    "\n",
    "# 设置变量\n",
    "x1 = symbols(\"x1\")\n",
    "x2 = symbols(\"x2\")\n",
    "alpha = symbols(\"alpha\")\n",
    "# beta = symbols(\"beta\")\n",
    "\n",
    "# 构造拉格朗日等式\n",
    "L = 60 - 10 * x1 - 4 * x2 + x1 * x1 + x2 * x2 - x1 * x2 - alpha * (x1 + x2 - 8)\n",
    "\n",
    "# 求导，构造KKT条件\n",
    "difyL_x1 = diff(L, x1)  # 对变量x1求导\n",
    "difyL_x2 = diff(L, x2)  # 对变量x2求导\n",
    "difyL_alpha = diff(L, alpha)  # 对alpha求导\n",
    "# 求解KKT等式\n",
    "aa = solve([difyL_x1, difyL_x2, difyL_alpha], [x1, x2, alpha])\n",
    "print(aa)"
   ]
  },
  {
   "cell_type": "code",
   "execution_count": 3,
   "metadata": {},
   "outputs": [
    {
     "data": {
      "text/latex": [
       "$\\displaystyle - \\alpha + 2 x_{1} - x_{2} - 10$"
      ],
      "text/plain": [
       "-alpha + 2*x1 - x2 - 10"
      ]
     },
     "execution_count": 3,
     "metadata": {},
     "output_type": "execute_result"
    },
    {
     "ename": "",
     "evalue": "",
     "output_type": "error",
     "traceback": [
      "\u001b[1;31mThe Kernel crashed while executing code in the the current cell or a previous cell. Please review the code in the cell(s) to identify a possible cause of the failure. Click <a href='https://aka.ms/vscodeJupyterKernelCrash'>here</a> for more info. View Jupyter <a href='command:jupyter.viewOutput'>log</a> for further details."
     ]
    }
   ],
   "source": [
    "difyL_x1"
   ]
  },
  {
   "cell_type": "code",
   "execution_count": 10,
   "metadata": {},
   "outputs": [
    {
     "name": "stdout",
     "output_type": "stream",
     "text": [
      " message: Optimization terminated successfully\n",
      " success: True\n",
      "  status: 0\n",
      "     fun: 17.000000000000007\n",
      "       x: [ 5.000e+00  3.000e+00]\n",
      "     nit: 4\n",
      "     jac: [-3.000e+00 -3.000e+00]\n",
      "    nfev: 12\n",
      "    njev: 4\n"
     ]
    }
   ],
   "source": [
    "from scipy.optimize import minimize\n",
    "import numpy as np\n",
    "\n",
    "\n",
    "# 目标函数：\n",
    "def func(args):\n",
    "    fun = lambda x: 60 - 10 * x[0] - 4 * x[1] + x[0] ** 2 + x[1] ** 2 - x[0] * x[1]\n",
    "    return fun\n",
    "\n",
    "\n",
    "# 约束条件，包括等式约束和不等式约束\n",
    "def con(args):\n",
    "    cons = {\"type\": \"eq\", \"fun\": lambda x: x[0] + x[1] - 8}\n",
    "    return cons\n",
    "\n",
    "\n",
    "if __name__ == \"__main__\":\n",
    "    args = ()\n",
    "    args1 = ()\n",
    "    cons = con(args1)\n",
    "    x0 = np.array((2.0, 1.0))  # 设置初始值，初始值的设置很重要，很容易收敛到另外的极值点中，建议多试几个值\n",
    "\n",
    "    # 求解#\n",
    "    res = minimize(func(args), x0, method=\"SLSQP\", constraints=cons)\n",
    "    print(res)"
   ]
  },
  {
   "cell_type": "code",
   "execution_count": 11,
   "metadata": {},
   "outputs": [
    {
     "name": "stdout",
     "output_type": "stream",
     "text": [
      " message: Optimization terminated successfully\n",
      " success: True\n",
      "  status: 0\n",
      "     fun: -0.773684210526435\n",
      "       x: [ 9.000e-01  9.000e-01  1.000e-01]\n",
      "     nit: 2\n",
      "     jac: [-2.474e+00 -8.033e-01  4.000e+00]\n",
      "    nfev: 8\n",
      "    njev: 2\n"
     ]
    }
   ],
   "source": [
    "from scipy.optimize import minimize\n",
    "import numpy as np\n",
    "\n",
    "# 计算（2+x1）/ （1+x2) - 3x1 + 4x3的最小值，其中x1、x2、x3范围在0.1到0.9之间\n",
    "\n",
    "\n",
    "def fun(args):\n",
    "    a, b, c, d = args\n",
    "    v = lambda x: (a + x[0]) / (b + x[1]) - c * x[0] + d * x[2]\n",
    "    return v\n",
    "\n",
    "\n",
    "def con(args):\n",
    "    # 约束条件 分为eq 和ineq\n",
    "    # eq表示 函数结果等于0 ； ineq 表示 表达式大于等于0\n",
    "    x1min, x1max, x2min, x2max, x3min, x3max = args\n",
    "    cons = (\n",
    "        {\"type\": \"ineq\", \"fun\": lambda x: x[0] - x1min},\n",
    "        {\"type\": \"ineq\", \"fun\": lambda x: -x[0] + x1max},\n",
    "        {\"type\": \"ineq\", \"fun\": lambda x: x[1] - x2min},\n",
    "        {\"type\": \"ineq\", \"fun\": lambda x: -x[1] + x2max},\n",
    "        {\"type\": \"ineq\", \"fun\": lambda x: x[2] - x3min},\n",
    "        {\"type\": \"ineq\", \"fun\": lambda x: -x[2] + x3max},\n",
    "    )\n",
    "    return cons\n",
    "\n",
    "\n",
    "if __name__ == \"__main__\":\n",
    "    # 定义常量值\n",
    "    args = (2, 1, 3, 4)  # a,b,c,d\n",
    "    # 设置参数范围/约束条件\n",
    "    args1 = (0.1, 0.9, 0.1, 0.9, 0.1, 0.9)  # x1min, x1max, x2min, x2max\n",
    "    cons = con(args1)\n",
    "    # 设置初始猜测值\n",
    "    x0 = np.asarray((0.5, 0.5, 0.5))\n",
    "    res = minimize(fun(args), x0, method=\"SLSQP\", constraints=cons)\n",
    "    print(res)"
   ]
  }
 ],
 "metadata": {
  "kernelspec": {
   "display_name": "mytorch",
   "language": "python",
   "name": "python3"
  },
  "language_info": {
   "codemirror_mode": {
    "name": "ipython",
    "version": 3
   },
   "file_extension": ".py",
   "mimetype": "text/x-python",
   "name": "python",
   "nbconvert_exporter": "python",
   "pygments_lexer": "ipython3",
   "version": "3.9.7"
  }
 },
 "nbformat": 4,
 "nbformat_minor": 2
}
